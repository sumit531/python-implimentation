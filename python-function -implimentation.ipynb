{
 "cells": [
  {
   "cell_type": "code",
   "execution_count": 1,
   "id": "6af52c14",
   "metadata": {},
   "outputs": [
    {
     "name": "stdout",
     "output_type": "stream",
     "text": [
      "Hello,Alice!\n"
     ]
    }
   ],
   "source": [
    "#Basic function\n",
    "def great(name):\n",
    "    return f\"Hello,{name}!\"\n",
    "result = great(\"Alice\")\n",
    "print(result)"
   ]
  },
  {
   "cell_type": "code",
   "execution_count": 2,
   "id": "65fcd7a3",
   "metadata": {},
   "outputs": [
    {
     "name": "stdout",
     "output_type": "stream",
     "text": [
      "Hello,user!\n"
     ]
    }
   ],
   "source": [
    "#function with default parameter\n",
    "def great(name=\"user\"):\n",
    "    return f\"Hello,{name}!\"\n",
    "result = great()\n",
    "print(result)"
   ]
  },
  {
   "cell_type": "code",
   "execution_count": 3,
   "id": "bc31cc03",
   "metadata": {},
   "outputs": [
    {
     "name": "stdout",
     "output_type": "stream",
     "text": [
      "8\n"
     ]
    }
   ],
   "source": [
    "#function with multiple parameter\n",
    "def add(a,b):\n",
    "    return a+b\n",
    "result = add(3,5)\n",
    "print(result)\n"
   ]
  },
  {
   "cell_type": "code",
   "execution_count": 4,
   "id": "a721255a",
   "metadata": {},
   "outputs": [
    {
     "name": "stdout",
     "output_type": "stream",
     "text": [
      "30\n"
     ]
    }
   ],
   "source": [
    "#function with] docstring\n",
    "def multiply(a,b,c):\n",
    "    \"\"\"\"\n",
    "    Multile of three numbers.\n",
    "    \"\"\"\n",
    "    return(a*b*c)\n",
    "result=multiply(2,3,5)\n",
    "print(result)"
   ]
  },
  {
   "cell_type": "code",
   "execution_count": null,
   "id": "90be9078",
   "metadata": {},
   "outputs": [],
   "source": [
    "#Recursive factorial function:\n",
    "def factorial(n):\n",
    "    if n == 0:\n",
    "        return 1\n",
    "    else:\n",
    "        return n * factorial(n-1)\n",
    "result = factorial(7)\n",
    "print(result)"
   ]
  },
  {
   "cell_type": "code",
   "execution_count": null,
   "id": "5ffc9a46",
   "metadata": {},
   "outputs": [],
   "source": [
    "#function with variable number of arguments\n",
    "def calculate_sum(*args):\n",
    "    total = 0\n",
    "    for num in args:\n",
    "        total += num\n",
    "    return total\n",
    "result = calculate_sum(1,2,3,4,5)\n",
    "print(result)"
   ]
  },
  {
   "cell_type": "code",
   "execution_count": null,
   "id": "0dc67556",
   "metadata": {},
   "outputs": [],
   "source": [
    "#lamda function(Anonymous function)\n",
    "multiply = lambda x,y:x*y\n",
    "result = multiply(2,3)\n",
    "print(result)"
   ]
  },
  {
   "cell_type": "code",
   "execution_count": null,
   "id": "307303f3",
   "metadata": {},
   "outputs": [],
   "source": [
    "#function with global variables:\n",
    "global_variable = 10\n",
    "\n",
    "def increment_global():\n",
    "    global global_variable\n",
    "    global_variable += 1\n",
    "\n",
    "increment_global()\n",
    "print(global_variable)"
   ]
  },
  {
   "cell_type": "code",
   "execution_count": null,
   "id": "475e4717",
   "metadata": {},
   "outputs": [],
   "source": [
    "#function with a return statement:\n",
    "def is_even(number):\n",
    "    if number % 2 == 0:\n",
    "        return True\n",
    "    else:\n",
    "        return False\n",
    "result = is_even(7)\n",
    "print(result)"
   ]
  },
  {
   "cell_type": "code",
   "execution_count": null,
   "id": "c543ebcd",
   "metadata": {},
   "outputs": [],
   "source": [
    "#function with default argumnet value:\n",
    "def greet_with_message(name, message=\"Hello\"):\n",
    "    return f\"{message}, {name}!\"\n",
    "\n",
    "result1 = greet_with_message(\"Alice\")\n",
    "result2 = greet_with_message(\"Bob\", \"Hi\")\n",
    "print(result1)\n",
    "print(result2)                       "
   ]
  },
  {
   "cell_type": "code",
   "execution_count": null,
   "id": "ab224889",
   "metadata": {},
   "outputs": [],
   "source": []
  }
 ],
 "metadata": {
  "kernelspec": {
   "display_name": "Python 3 (ipykernel)",
   "language": "python",
   "name": "python3"
  },
  "language_info": {
   "codemirror_mode": {
    "name": "ipython",
    "version": 3
   },
   "file_extension": ".py",
   "mimetype": "text/x-python",
   "name": "python",
   "nbconvert_exporter": "python",
   "pygments_lexer": "ipython3",
   "version": "3.10.10"
  }
 },
 "nbformat": 4,
 "nbformat_minor": 5
}

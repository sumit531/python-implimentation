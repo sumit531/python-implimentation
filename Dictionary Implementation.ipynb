{
 "cells": [
  {
   "cell_type": "code",
   "execution_count": 1,
   "id": "5e22ca46",
   "metadata": {},
   "outputs": [],
   "source": [
    "#Creating a dictionary"
   ]
  },
  {
   "cell_type": "code",
   "execution_count": 2,
   "id": "15b16220",
   "metadata": {},
   "outputs": [],
   "source": [
    "m_dict={'name':'john','age':'30','city':'delhi'}"
   ]
  },
  {
   "cell_type": "code",
   "execution_count": 3,
   "id": "9181910f",
   "metadata": {},
   "outputs": [
    {
     "name": "stdout",
     "output_type": "stream",
     "text": [
      "{'name': 'john', 'age': '30', 'city': 'delhi'}\n"
     ]
    }
   ],
   "source": [
    "print(m_dict)"
   ]
  },
  {
   "cell_type": "code",
   "execution_count": 4,
   "id": "903d8887",
   "metadata": {},
   "outputs": [
    {
     "name": "stdout",
     "output_type": "stream",
     "text": [
      "john\n",
      "30\n"
     ]
    }
   ],
   "source": [
    "empty_dect={}\n",
    "print(m_dict['name'])\n",
    "print(m_dict['age'])"
   ]
  },
  {
   "cell_type": "code",
   "execution_count": 5,
   "id": "37e3a0f4",
   "metadata": {},
   "outputs": [],
   "source": [
    "#adding new key_value\n",
    "m_dict['job']='mason'\n",
    "m_dict['age']='32'"
   ]
  },
  {
   "cell_type": "code",
   "execution_count": 6,
   "id": "5f6fbe3c",
   "metadata": {},
   "outputs": [
    {
     "name": "stdout",
     "output_type": "stream",
     "text": [
      "{'name': 'john', 'age': '32', 'city': 'delhi', 'job': 'mason'}\n"
     ]
    }
   ],
   "source": [
    "print(m_dict)"
   ]
  },
  {
   "cell_type": "code",
   "execution_count": 7,
   "id": "c56e1787",
   "metadata": {},
   "outputs": [
    {
     "name": "stdout",
     "output_type": "stream",
     "text": [
      "Updated job: engineer\n"
     ]
    }
   ],
   "source": [
    "# Example 3: Modifying dictionary values\n",
    "m_dict[\"job\"] = \"engineer\"\n",
    "print(\"Updated job:\", m_dict[\"job\"])"
   ]
  },
  {
   "cell_type": "code",
   "execution_count": 9,
   "id": "d45f1c55",
   "metadata": {},
   "outputs": [],
   "source": [
    "#adding mail id\n",
    "m_dict['email']='john@mail.com'\n",
    "m_dict['ph no.']= 32156437"
   ]
  },
  {
   "cell_type": "code",
   "execution_count": 10,
   "id": "8361c37d",
   "metadata": {},
   "outputs": [
    {
     "name": "stdout",
     "output_type": "stream",
     "text": [
      "{'name': 'john', 'age': '32', 'city': 'delhi', 'job': 'engineer', 'email': 'john@mail.com', 'ph no.': 32156437}\n"
     ]
    }
   ],
   "source": [
    "print(m_dict)"
   ]
  },
  {
   "cell_type": "code",
   "execution_count": 11,
   "id": "e1f3f996",
   "metadata": {},
   "outputs": [
    {
     "name": "stdout",
     "output_type": "stream",
     "text": [
      "{'name': 'john', 'age': '32', 'job': 'engineer', 'email': 'john@mail.com', 'ph no.': 32156437}\n"
     ]
    }
   ],
   "source": [
    "# Removing items from a dictionary\n",
    "del m_dict['city']\n",
    "print(m_dict)"
   ]
  },
  {
   "cell_type": "code",
   "execution_count": 13,
   "id": "d701f980",
   "metadata": {},
   "outputs": [
    {
     "name": "stdout",
     "output_type": "stream",
     "text": [
      "name: john\n",
      "age: 32\n",
      "job: engineer\n",
      "email: john@mail.com\n",
      "ph no.: 32156437\n"
     ]
    }
   ],
   "source": [
    "# Iterating through a dictionary\n",
    "for key, value in m_dict.items():\n",
    "    print(key + \":\", value)"
   ]
  },
  {
   "cell_type": "code",
   "execution_count": 17,
   "id": "9bee7186",
   "metadata": {},
   "outputs": [
    {
     "name": "stdout",
     "output_type": "stream",
     "text": [
      "Email is present: john@mail.com\n"
     ]
    }
   ],
   "source": [
    "#Checking if a key exists in a dictionary\n",
    "if \"email\" in m_dict:\n",
    "    print(\"Email is present:\", m_dict[\"email\"])\n",
    "else:\n",
    "    print(\"Email not found\")"
   ]
  },
  {
   "cell_type": "code",
   "execution_count": 18,
   "id": "abbcb045",
   "metadata": {},
   "outputs": [
    {
     "name": "stdout",
     "output_type": "stream",
     "text": [
      "dict_keys(['name', 'age', 'job', 'email', 'ph no.'])\n",
      "dict_values(['john', '32', 'engineer', 'john@mail.com', 32156437])\n"
     ]
    }
   ],
   "source": [
    "#Using dictionary methods\n",
    "keys=m_dict.keys()\n",
    "values=m_dict.values()\n",
    "print(keys)\n",
    "print(values)"
   ]
  },
  {
   "cell_type": "code",
   "execution_count": 21,
   "id": "b1b9a720",
   "metadata": {},
   "outputs": [
    {
     "name": "stdout",
     "output_type": "stream",
     "text": [
      "Math Grade: 90\n"
     ]
    }
   ],
   "source": [
    "#Using nested dictionaries\n",
    "student={\n",
    "    \"name\":\"alice\",\n",
    "    \"grades\":{\n",
    "        \"maths\":90,\n",
    "        \"science\":80,\n",
    "        \"english\":79\n",
    "    }\n",
    "}\n",
    "print(\"Math Grade:\",student[\"grades\"][\"maths\"])"
   ]
  },
  {
   "cell_type": "code",
   "execution_count": 25,
   "id": "044619ce",
   "metadata": {},
   "outputs": [
    {
     "name": "stdout",
     "output_type": "stream",
     "text": [
      "{1: 1, 2: 4, 3: 9, 4: 16, 5: 25}\n"
     ]
    }
   ],
   "source": [
    "#Using dictionary comprehension to create a dictionary\n",
    "numbers = [1, 2, 3, 4, 5]\n",
    "sq_num = {num: num**2 for num in numbers}\n",
    "print(sq_num)"
   ]
  },
  {
   "cell_type": "code",
   "execution_count": null,
   "id": "c89f8244",
   "metadata": {},
   "outputs": [],
   "source": []
  }
 ],
 "metadata": {
  "kernelspec": {
   "display_name": "Python 3 (ipykernel)",
   "language": "python",
   "name": "python3"
  },
  "language_info": {
   "codemirror_mode": {
    "name": "ipython",
    "version": 3
   },
   "file_extension": ".py",
   "mimetype": "text/x-python",
   "name": "python",
   "nbconvert_exporter": "python",
   "pygments_lexer": "ipython3",
   "version": "3.10.10"
  }
 },
 "nbformat": 4,
 "nbformat_minor": 5
}

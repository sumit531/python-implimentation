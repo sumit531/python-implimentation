{
 "cells": [
  {
   "cell_type": "code",
   "execution_count": 1,
   "id": "6728ee0a",
   "metadata": {},
   "outputs": [
    {
     "name": "stdout",
     "output_type": "stream",
     "text": [
      "enter somethingh: 56\n",
      "you entered: 56\n"
     ]
    }
   ],
   "source": [
    "#1. Using the input() function for simple text input:\n",
    "user_input=input(\"enter somethingh: \")\n",
    "print(\"you entered:\",user_input)"
   ]
  },
  {
   "cell_type": "code",
   "execution_count": 2,
   "id": "e097469c",
   "metadata": {},
   "outputs": [
    {
     "name": "stdout",
     "output_type": "stream",
     "text": [
      "enter your age:23\n",
      "you are 23 years old.\n"
     ]
    }
   ],
   "source": [
    "#2. Parsing numeric input using int() or float():\n",
    "age = int(input(\"enter your age:\"))\n",
    "print(\"you are\",age,\"years old.\")"
   ]
  },
  {
   "cell_type": "code",
   "execution_count": 3,
   "id": "0e672c25",
   "metadata": {},
   "outputs": [
    {
     "name": "stdout",
     "output_type": "stream",
     "text": [
      "enter your name: 23\n",
      "enter your age: 23\n",
      "Name 23\n",
      "Age 23\n"
     ]
    }
   ],
   "source": [
    "#3 Collecting multiple values from the user:\n",
    "name=input(\"enter your name: \")\n",
    "age=int(input(\"enter your age: \"))\n",
    "print(\"Name\",name)\n",
    "print(\"Age\",age)"
   ]
  },
  {
   "cell_type": "code",
   "execution_count": 4,
   "id": "7dcb7ad1",
   "metadata": {},
   "outputs": [
    {
     "name": "stdout",
     "output_type": "stream",
     "text": [
      "usage: python script.py<input_argument>\n"
     ]
    }
   ],
   "source": [
    "#4. Using command-line arguments with sys.argv for script inputs:\n",
    "import sys\n",
    "\n",
    "if len(sys.argv) != 2:\n",
    "    print(\"usage: python script.py<input_argument>\")\n",
    "else:\n",
    "    user_input=sys.argv[1]\n",
    "    print(\"you provide:\",user_input)"
   ]
  },
  {
   "cell_type": "code",
   "execution_count": 6,
   "id": "d9f138fc",
   "metadata": {},
   "outputs": [
    {
     "name": "stdout",
     "output_type": "stream",
     "text": [
      "enter the name of file: file\n"
     ]
    },
    {
     "ename": "FileNotFoundError",
     "evalue": "[Errno 2] No such file or directory: 'file'",
     "output_type": "error",
     "traceback": [
      "\u001b[0;31m---------------------------------------------------------------------------\u001b[0m",
      "\u001b[0;31mFileNotFoundError\u001b[0m                         Traceback (most recent call last)",
      "Cell \u001b[0;32mIn[6], line 3\u001b[0m\n\u001b[1;32m      1\u001b[0m \u001b[38;5;66;03m#Reading input from file:\u001b[39;00m\n\u001b[1;32m      2\u001b[0m file_name\u001b[38;5;241m=\u001b[39m\u001b[38;5;28minput\u001b[39m(\u001b[38;5;124m\"\u001b[39m\u001b[38;5;124menter the name of file: \u001b[39m\u001b[38;5;124m\"\u001b[39m)\n\u001b[0;32m----> 3\u001b[0m \u001b[38;5;28;01mwith\u001b[39;00m \u001b[38;5;28;43mopen\u001b[39;49m\u001b[43m(\u001b[49m\u001b[43mfile_name\u001b[49m\u001b[43m,\u001b[49m\u001b[43m \u001b[49m\u001b[38;5;124;43m\"\u001b[39;49m\u001b[38;5;124;43mr\u001b[39;49m\u001b[38;5;124;43m\"\u001b[39;49m\u001b[43m)\u001b[49m \u001b[38;5;28;01mas\u001b[39;00m file:\n\u001b[1;32m      4\u001b[0m     content \u001b[38;5;241m=\u001b[39m file\u001b[38;5;241m.\u001b[39mread()\n\u001b[1;32m      5\u001b[0m     \u001b[38;5;28mprint\u001b[39m(\u001b[38;5;124m\"\u001b[39m\u001b[38;5;124mFile content:\u001b[39m\u001b[38;5;124m\"\u001b[39m)\n",
      "File \u001b[0;32m~/miniconda3/lib/python3.10/site-packages/IPython/core/interactiveshell.py:284\u001b[0m, in \u001b[0;36m_modified_open\u001b[0;34m(file, *args, **kwargs)\u001b[0m\n\u001b[1;32m    277\u001b[0m \u001b[38;5;28;01mif\u001b[39;00m file \u001b[38;5;129;01min\u001b[39;00m {\u001b[38;5;241m0\u001b[39m, \u001b[38;5;241m1\u001b[39m, \u001b[38;5;241m2\u001b[39m}:\n\u001b[1;32m    278\u001b[0m     \u001b[38;5;28;01mraise\u001b[39;00m \u001b[38;5;167;01mValueError\u001b[39;00m(\n\u001b[1;32m    279\u001b[0m         \u001b[38;5;124mf\u001b[39m\u001b[38;5;124m\"\u001b[39m\u001b[38;5;124mIPython won\u001b[39m\u001b[38;5;124m'\u001b[39m\u001b[38;5;124mt let you open fd=\u001b[39m\u001b[38;5;132;01m{\u001b[39;00mfile\u001b[38;5;132;01m}\u001b[39;00m\u001b[38;5;124m by default \u001b[39m\u001b[38;5;124m\"\u001b[39m\n\u001b[1;32m    280\u001b[0m         \u001b[38;5;124m\"\u001b[39m\u001b[38;5;124mas it is likely to crash IPython. If you know what you are doing, \u001b[39m\u001b[38;5;124m\"\u001b[39m\n\u001b[1;32m    281\u001b[0m         \u001b[38;5;124m\"\u001b[39m\u001b[38;5;124myou can use builtins\u001b[39m\u001b[38;5;124m'\u001b[39m\u001b[38;5;124m open.\u001b[39m\u001b[38;5;124m\"\u001b[39m\n\u001b[1;32m    282\u001b[0m     )\n\u001b[0;32m--> 284\u001b[0m \u001b[38;5;28;01mreturn\u001b[39;00m \u001b[43mio_open\u001b[49m\u001b[43m(\u001b[49m\u001b[43mfile\u001b[49m\u001b[43m,\u001b[49m\u001b[43m \u001b[49m\u001b[38;5;241;43m*\u001b[39;49m\u001b[43margs\u001b[49m\u001b[43m,\u001b[49m\u001b[43m \u001b[49m\u001b[38;5;241;43m*\u001b[39;49m\u001b[38;5;241;43m*\u001b[39;49m\u001b[43mkwargs\u001b[49m\u001b[43m)\u001b[49m\n",
      "\u001b[0;31mFileNotFoundError\u001b[0m: [Errno 2] No such file or directory: 'file'"
     ]
    }
   ],
   "source": [
    "#Reading input from file:\n",
    "file_name=input(\"enter the name of file: \")\n",
    "with open(file_name, \"r\") as file:\n",
    "    content = file.read()\n",
    "    print(\"File content:\")\n",
    "    print(content)"
   ]
  },
  {
   "cell_type": "code",
   "execution_count": 7,
   "id": "9a58c8bf",
   "metadata": {},
   "outputs": [
    {
     "name": "stdout",
     "output_type": "stream",
     "text": [
      "enter a number(or 'q' to quite): q\n",
      "Numbers entered []\n"
     ]
    }
   ],
   "source": [
    "#Accepting input with a loop:\n",
    "numbers=[]\n",
    "while True:\n",
    "    num = input(\"enter a number(or 'q' to quite): \")\n",
    "    if num.lower() =='q':\n",
    "        break\n",
    "    numbers.append(int(num))\n",
    "print(\"Numbers entered\",numbers)"
   ]
  },
  {
   "cell_type": "code",
   "execution_count": 8,
   "id": "ec2c190b",
   "metadata": {},
   "outputs": [
    {
     "name": "stdout",
     "output_type": "stream",
     "text": [
      "Enter a positive integer. 23\n",
      "you entered 23\n"
     ]
    }
   ],
   "source": [
    "#using custom function for input vaidation\n",
    "def get_positive_integer():\n",
    "    while True:\n",
    "        try:\n",
    "            num = int(input(\"Enter a positive integer. \"))\n",
    "            if num>0:\n",
    "                return num\n",
    "            else:\n",
    "                print(\"please enter a positive integer.\")\n",
    "        except ValueError:\n",
    "            print(\"Invalid input. Please enter a postive integer\")\n",
    "            \n",
    "value=get_positive_integer()\n",
    "print(\"you entered\", value)"
   ]
  },
  {
   "cell_type": "code",
   "execution_count": 9,
   "id": "6cb6e567",
   "metadata": {},
   "outputs": [
    {
     "name": "stdout",
     "output_type": "stream",
     "text": [
      "how tall are you,in inchies?23\n",
      "\n",
      "you'll be abel to ride when you re' a little older.\n"
     ]
    }
   ],
   "source": [
    "#other examples\n",
    "height = input(\"how tall are you,in inchies?\")\n",
    "height = int(height)\n",
    "\n",
    "if height>=48:\n",
    "    print(\"\\nyou're tall enough to ride!\")\n",
    "else:\n",
    "    print(\"\\nyou'll be abel to ride when you re' a little older.\")\n",
    "    "
   ]
  },
  {
   "cell_type": "code",
   "execution_count": 10,
   "id": "b1f98564",
   "metadata": {},
   "outputs": [
    {
     "data": {
      "text/plain": [
       "2"
      ]
     },
     "execution_count": 10,
     "metadata": {},
     "output_type": "execute_result"
    }
   ],
   "source": [
    "#Module opreater\n",
    "5 % 3"
   ]
  },
  {
   "cell_type": "code",
   "execution_count": 11,
   "id": "5f172282",
   "metadata": {},
   "outputs": [
    {
     "name": "stdout",
     "output_type": "stream",
     "text": [
      "Enter a number, and I'll tell you if it's even or odd: 3\n",
      "\n",
      "The number 3 is odd.\n"
     ]
    }
   ],
   "source": [
    "number1 = input(\"Enter a number, and I'll tell you if it's even or odd: \")\n",
    "number = int(number1)  # Corrected variable name\n",
    "\n",
    "if number % 2 == 0:\n",
    "    print(f\"\\nThe number {number} is even.\")\n",
    "else:\n",
    "    print(f\"\\nThe number {number} is odd.\")"
   ]
  },
  {
   "cell_type": "code",
   "execution_count": 12,
   "id": "b61a40b2",
   "metadata": {},
   "outputs": [
    {
     "name": "stdout",
     "output_type": "stream",
     "text": [
      "Verifying users: Candance\n",
      "\n",
      "the following users have been confirmed:\n",
      "Verifying users: Brian\n",
      "\n",
      "the following users have been confirmed:\n",
      "Verifying users: Alice\n",
      "\n",
      "the following users have been confirmed:\n"
     ]
    }
   ],
   "source": [
    "#moving item from one list to another list\n",
    "unconfirmed_users = ['alice','brian','candance']\n",
    "confirmed_users = []\n",
    "#verify all user until are no more unconfirmed users\n",
    "#move each verified users into lis of confirmed user\n",
    "while unconfirmed_users:\n",
    "    current_user = unconfirmed_users.pop()\n",
    "    print(f\"Verifying users: {current_user.title()}\")\n",
    "    print(\"\\nthe following users have been confirmed:\") \n",
    "    "
   ]
  },
  {
   "cell_type": "code",
   "execution_count": 13,
   "id": "5561d7dd",
   "metadata": {},
   "outputs": [
    {
     "name": "stdout",
     "output_type": "stream",
     "text": [
      "['dog', 'cat', 'cat', 'rabbit', 'iguana']\n"
     ]
    }
   ],
   "source": [
    "#Removing all instance of sprcific values from a list:\n",
    "pets = ['dog','cat','cat','rabbit','iguana']\n",
    "print(pets)"
   ]
  },
  {
   "cell_type": "code",
   "execution_count": 14,
   "id": "348ec9ad",
   "metadata": {},
   "outputs": [
    {
     "name": "stdout",
     "output_type": "stream",
     "text": [
      "['dog', 'cat', 'rabbit', 'iguana']\n",
      "['dog', 'rabbit', 'iguana']\n"
     ]
    }
   ],
   "source": [
    "while 'cat' in pets:\n",
    "    pets.remove('cat')\n",
    "    print(pets)"
   ]
  },
  {
   "cell_type": "code",
   "execution_count": 15,
   "id": "8f07a35c",
   "metadata": {},
   "outputs": [
    {
     "name": "stdout",
     "output_type": "stream",
     "text": [
      "What is your name? sam\n",
      "Which mountain do you like to climb someday? yes\n",
      "Would you like to let another person respond? (yes/no) no\n",
      "\n",
      "--- Poll Result ---\n",
      "sam would like to climb yes someday.\n"
     ]
    }
   ],
   "source": [
    "#filling a dicitionary with user input\n",
    "responses = {}  # Use an empty dictionary to store responses\n",
    "polling_active = True\n",
    "\n",
    "while polling_active:\n",
    "    name = input(\"What is your name? \")\n",
    "    mountain = input(\"Which mountain do you like to climb someday? \")\n",
    "    \n",
    "    responses[name] = mountain  # Store the response in the dictionary\n",
    "    \n",
    "    repeat = input(\"Would you like to let another person respond? (yes/no) \")\n",
    "    if repeat.lower() == 'no':\n",
    "        polling_active = False\n",
    "\n",
    "print(\"\\n--- Poll Result ---\")\n",
    "for name, mountain in responses.items():\n",
    "    print(f\"{name} would like to climb {mountain} someday.\")\n"
   ]
  },
  {
   "cell_type": "code",
   "execution_count": null,
   "id": "1d753619",
   "metadata": {},
   "outputs": [],
   "source": []
  }
 ],
 "metadata": {
  "kernelspec": {
   "display_name": "Python 3 (ipykernel)",
   "language": "python",
   "name": "python3"
  },
  "language_info": {
   "codemirror_mode": {
    "name": "ipython",
    "version": 3
   },
   "file_extension": ".py",
   "mimetype": "text/x-python",
   "name": "python",
   "nbconvert_exporter": "python",
   "pygments_lexer": "ipython3",
   "version": "3.10.10"
  }
 },
 "nbformat": 4,
 "nbformat_minor": 5
}

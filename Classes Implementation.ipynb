{
 "cells": [
  {
   "cell_type": "code",
<<<<<<< HEAD
   "execution_count": 3,
   "id": "9f4a5f9b",
   "metadata": {},
   "outputs": [
    {
     "name": "stdout",
     "output_type": "stream",
     "text": [
      "Balance: $1000\n",
      "Balance: $500\n"
     ]
    }
   ],
   "source": [
    "class BankAccount:\n",
    "    def __init__(self, balance=0):\n",
    "        self.balance = balance\n",
    "\n",
    "    def deposit(self, amount):\n",
    "        self.balance += amount\n",
    "\n",
    "    def withdraw(self, amount):\n",
    "        if self.balance >= amount:\n",
    "            self.balance -= amount\n",
    "        else:\n",
    "            print(\"Insufficient funds\")\n",
    "\n",
    "    def check_balance(self):\n",
    "        print(f\"Balance: ${self.balance}\")\n",
    "\n",
    "# Usage\n",
    "account = BankAccount()\n",
    "account.deposit(1000)\n",
    "account.check_balance()\n",
    "account.withdraw(500)\n",
    "account.check_balance()"
   ]
  },
  {
   "cell_type": "code",
   "execution_count": 4,
   "id": "7029f805",
   "metadata": {},
   "outputs": [
    {
     "name": "stdout",
     "output_type": "stream",
     "text": [
      "Area: 20\n",
      "Perimeter: 18\n"
     ]
    }
   ],
   "source": [
    "class Rectangle:\n",
    "    def __init__(self, width, height):\n",
    "        self.width = width\n",
    "        self.height = height\n",
    "\n",
    "    def area(self):\n",
    "        return self.width * self.height\n",
    "\n",
    "    def perimeter(self):\n",
    "        return 2 * (self.width + self.height)\n",
    "\n",
    "# Usage\n",
    "rectangle = Rectangle(5, 4)\n",
    "print(f\"Area: {rectangle.area()}\")\n",
    "print(f\"Perimeter: {rectangle.perimeter()}\")\n"
   ]
  },
  {
   "cell_type": "code",
   "execution_count": 5,
   "id": "8f5e03a5",
   "metadata": {},
   "outputs": [
    {
     "name": "stdout",
     "output_type": "stream",
     "text": [
      "Alice's Courses: Math, History\n"
     ]
    }
   ],
   "source": [
    "class Student:\n",
    "    def __init__(self, name):\n",
    "        self.name = name\n",
    "        self.courses = []\n",
    "\n",
    "    def enroll(self, course):\n",
    "        self.courses.append(course)\n",
    "\n",
    "    def list_courses(self):\n",
    "        print(f\"{self.name}'s Courses: {', '.join(self.courses)}\")\n",
    "\n",
    "# Usage\n",
    "student1 = Student(\"Alice\")\n",
    "student1.enroll(\"Math\")\n",
    "student1.enroll(\"History\")\n",
    "student1.list_courses()\n"
   ]
  },
  {
   "cell_type": "code",
   "execution_count": 6,
   "id": "81cdb625",
   "metadata": {},
   "outputs": [],
   "source": [
    "#Car Dealership Inventory Management - This example demonstrates a class for managing a car dealership's inventory using functions and loops:"
   ]
  },
  {
   "cell_type": "code",
   "execution_count": 7,
   "id": "daaf24e5",
   "metadata": {},
   "outputs": [
    {
     "name": "stdout",
     "output_type": "stream",
     "text": [
      "Car Inventory:\n",
      "2022 Toyota Camry - $25000\n",
      "2023 Ford Mustang - $35000\n"
     ]
    }
   ],
   "source": [
    "class Car:\n",
    "    def __init__(self, make, model, year, price):\n",
    "        self.make = make\n",
    "        self.model = model\n",
    "        self.year = year\n",
    "        self.price = price\n",
    "\n",
    "class Dealership:\n",
    "    def __init__(self):\n",
    "        self.inventory = []\n",
    "\n",
    "    def add_car(self, car):\n",
    "        self.inventory.append(car)\n",
    "\n",
    "    def list_inventory(self):\n",
    "        print(\"Car Inventory:\")\n",
    "        for car in self.inventory:\n",
    "            print(f\"{car.year} {car.make} {car.model} - ${car.price}\")\n",
    "\n",
    "# Usage\n",
    "dealership = Dealership()\n",
    "car1 = Car(\"Toyota\", \"Camry\", 2022, 25000)\n",
    "car2 = Car(\"Ford\", \"Mustang\", 2023, 35000)\n",
    "dealership.add_car(car1)\n",
    "dealership.add_car(car2)\n",
    "dealership.list_inventory()"
   ]
  },
  {
   "cell_type": "code",
   "execution_count": 8,
   "id": "64b2bfe6",
   "metadata": {},
   "outputs": [],
   "source": [
    "#Gradebook with Students and Grades - This example models a gradebook with students, grades, and functions to calculate averages:"
   ]
  },
  {
   "cell_type": "code",
   "execution_count": 9,
   "id": "2d81e750",
   "metadata": {},
   "outputs": [
    {
     "name": "stdout",
     "output_type": "stream",
     "text": [
      "Students and Their Averages:\n",
      "Alice: Average = 87.50\n",
      "Bob: Average = 81.50\n"
     ]
    }
   ],
   "source": [
    "class Student:\n",
    "    def __init__(self, name):\n",
    "        self.name = name\n",
    "        self.grades = []\n",
    "\n",
    "    def add_grade(self, grade):\n",
    "        self.grades.append(grade)\n",
    "\n",
    "    def calculate_average(self):\n",
    "        if len(self.grades) > 0:\n",
    "            return sum(self.grades) / len(self.grades)\n",
    "        else:\n",
    "            return 0\n",
    "\n",
    "class Gradebook:\n",
    "    def __init__(self):\n",
    "        self.students = []\n",
    "\n",
    "    def add_student(self, student):\n",
    "        self.students.append(student)\n",
    "\n",
    "    def list_students(self):\n",
    "        print(\"Students and Their Averages:\")\n",
    "        for student in self.students:\n",
    "            avg = student.calculate_average()\n",
    "            print(f\"{student.name}: Average = {avg:.2f}\")\n",
    "\n",
    "# Usage\n",
    "gradebook = Gradebook()\n",
    "student1 = Student(\"Alice\")\n",
    "student1.add_grade(90)\n",
    "student1.add_grade(85)\n",
    "student2 = Student(\"Bob\")\n",
    "student2.add_grade(75)\n",
    "student2.add_grade(88)\n",
    "gradebook.add_student(student1)\n",
    "gradebook.add_student(student2)\n",
    "gradebook.list_students()\n"
   ]
  },
  {
   "cell_type": "code",
   "execution_count": null,
   "id": "81dc44c2",
=======
   "execution_count": null,
   "id": "9f4a5f9b",
>>>>>>> origin/main
   "metadata": {},
   "outputs": [],
   "source": []
  }
 ],
 "metadata": {
  "kernelspec": {
   "display_name": "Python 3 (ipykernel)",
   "language": "python",
   "name": "python3"
  },
  "language_info": {
   "codemirror_mode": {
    "name": "ipython",
    "version": 3
   },
   "file_extension": ".py",
   "mimetype": "text/x-python",
   "name": "python",
   "nbconvert_exporter": "python",
   "pygments_lexer": "ipython3",
   "version": "3.10.10"
  }
 },
 "nbformat": 4,
 "nbformat_minor": 5
}
